{
 "cells": [
  {
   "cell_type": "markdown",
   "id": "496f5ba8-d08f-446d-b189-91ab27a3a53d",
   "metadata": {},
   "source": [
    "# Lane Line Detection\n",
    "## Motivation\n",
    "Road marking detection plays a key role in the development of autonomous driving technologies.<br><br>\n",
    "The road marking detection system must meet a number of requirements:\n",
    "1. High accuracy and reliability: The system must accurately identify and classify all types of road markings under various road conditions.\n",
    "2. Functionality in different weather conditions: The ability to operate in various weather conditions, including rain, snow, and fog, which requires the system to be resilient to changes in visibility and contrast.\n",
    "4. Low latency: A fast response time is critically important for safety, as road conditions can change instantaneously.\n",
    "5. Operability at different times of the day: The system must be effective both during the day and at night, which implies the use of technologies for processing images in low-light conditions."
   ]
  },
  {
   "cell_type": "markdown",
   "id": "4188b1ff-f8b2-44c0-b8fa-d0376255bf04",
   "metadata": {},
   "source": [
    "## Introduction\n",
    "There are several methods for road marking detection. Here are a few popular ones:<br><br>\n",
    "\n",
    "1. Canny Edge Detection with Hough Line Transform\n",
    "    - Pros:\n",
    "        - Well-studied method with many implementations.\n",
    "        - Computationally efficient.\n",
    "        - Effective in good, well-known conditions (like a race track).\n",
    "    - Cons:\n",
    "        - Resilience : Sensitive to conditions - noise, poor visibility, and worn markings can significantly degrade results.\n",
    "        - Limitation: Performs well on straight lines but not as well on curved lines.\n",
    "        - Manual tuning: Often requires manual tuning of parameters for specific conditions.\n",
    "        - Not suitable for identifying different types of markings.\n",
    "2. Block-wise classification using CNN and identification of blocks containing markings.\n",
    "    - Pros:\n",
    "        - Resilience : Resilient to changes in conditions.\n",
    "        - Training simplicity: does not require a lot of data, straightforward and quickly trainable model, clear loss function, and metrics.\n",
    "        - Does not require manual parameter tuning.\n",
    "        - Can be expanded to classify different types of markings.\n",
    "    - Cons:\n",
    "        - Computational resource demands.\n",
    "        - Does not scale to object detection.\n",
    "3. Semantic Segmentation\n",
    "    - Pros:\n",
    "        - Heigh Resilience : Resilient to changes in conditions.\n",
    "        - Precision: Allows for accurate delineation of road markings.\n",
    "        - Flexibility: Suitable for various types of road markings, including intersecting lines.\n",
    "        - Scalable: Easily extended to recognize other types of objects (vehicles, poles, pedestrian crossings).\n",
    "    - Cons:\n",
    "        - High resource demands.\n",
    "        - Training complexity: Requires a lot of data and long training.\n",
    "4. [LaneNet](https://arxiv.org/abs/1802.05591) - the main idea is to obtain a binary mask of the markings and separately obtain some description of the image to then group the lanes.\n",
    "    - Pros:\n",
    "        - Heigh Resilience : Resilient to changes in conditions.\n",
    "        - Precision: Allows for accurate delineation of road markings.\n",
    "        - Flexibility: Suitable for various types of road markings, including intersecting lines.\n",
    "        - Requires fewer labeled data if the lanes need to be distinguished.\n",
    "        - The same result can be achieved, as Semantic Segmentation, but with a smaller network.\n",
    "    - Cons:\n",
    "        - Scalable(?): Very specialized for road lanes, although it can be extended to other objects."
   ]
  },
  {
   "cell_type": "markdown",
   "id": "4ac66c75-27bc-4527-84ef-76e7e947cc92",
   "metadata": {},
   "source": [
    "## Description\n",
    "### Datasets\n",
    "1. [BDD100K: Images 100K Dataset](https://datasetninja.com/bdd100k)\n",
    "    - totoal 100000 images\n",
    "    - train (70000 images)\n",
    "    - test (20000 images)\n",
    "    - val (10000 images)\n",
    "2. [Mapillary Vistas Dataset](https://datasetninja.com/mapillary-vistas-dataset)\n",
    "    - totoal 25000 images\n",
    "    - train (18000 images)\n",
    "    - test (5000 images)\n",
    "    - val (2000 images)"
   ]
  },
  {
   "cell_type": "markdown",
   "id": "7b49eef4-2674-4f5b-b15f-5f7b4e00f16f",
   "metadata": {},
   "source": [
    "### Architecture\n",
    "#### U-Net\n",
    "UNet is a convolutional neural network designed for image segmentation tasks, characterized by its U-shaped architecture. The network consists of a contracting path (encoder) that captures context and a symmetric expanding path (decoder) for precise localization. It takes an input image of size (3, 124, 124) and passes it through a sequence of convolutional and pooling layers, increasing the number of channels to 1024. Then, in the decoder, the image is gradually restored to its original size with one output channel.\n",
    "![Unet arch](./examples/unet.png)\n",
    "\n",
    "#### LaneNet\n",
    "LaneNet consists of two main components: a segmentation network that determines the position of the lanes, and a clustering network that groups the pixels into individual lanes.\n",
    "##### First Step - Segmentation\n",
    "The embedding can be of any dimensionality. I have it as 3, 128, 128 just to be able to visualize and see what’s there. But it can also be 2 and 128.\n",
    "![Lanel arch - Segmentation](./examples/lanenet.png)\n",
    "##### Second Step - Clustering\n",
    "I used DBSCAN as the fastest of the simple clustering algorithms for which the number of clusters is unknown.<br>\n",
    "And then approximated with a second-degree polynomial to obtain the lines themselves.\n",
    "![Lanel arch - Clustering](./examples/lanenet_claassification.png)"
   ]
  },
  {
   "cell_type": "markdown",
   "id": "0ca088c9-34ce-4e28-9c77-b161ff9d3002",
   "metadata": {},
   "source": [
    "## Demo\n",
    "For the demo, I am using two examples.<br>\n",
    "A picture we worked with in the homework and a video.<br>\n",
    "The picture is a simple case with straight solid lines converging somewhere beyond the horizon.<br>\n",
    "The video is more complex. The lines are not only straight but also dashed. There is a turn, and the lines are slightly curved.\n",
    "### U-Net\n",
    "#### Example on a simple image\n",
    "![Simple image](./examples/unet_simple.png)\n",
    "#### Example on a complex video with curved and unstable lanes\n",
    "<video width=\"600\" controls>\n",
    "  <source src=\"./examples/video_unet.mp4\" type=\"video/mp4\">\n",
    "  Your browser does not support the video tag.\n",
    "</video>\n",
    "\n",
    "### LaneNet\n",
    "#### Example on a simple image\n",
    "![Simple image](./examples/lanenet_simple.png)\n",
    "#### Example on a complex video with curved and unstable lanes\n",
    "<video width=\"600\" controls>\n",
    "  <source src=\"./examples/video_lanenet.mp4\" type=\"video/mp4\">\n",
    "  Your browser does not support the video tag.\n",
    "</video>"
   ]
  },
  {
   "cell_type": "markdown",
   "id": "665a325e-344a-4358-a6e1-1c2e0b9b0f38",
   "metadata": {},
   "source": [
    "## Results\n",
    "The datasets are large but not very well labeled. There are sections where masks are missing and places where lines are labeled with a single line. However, this did not prevent the networks from determining the masks quite well. IoU of 1 is not particularly necessary if we are not aiming for centimeter-level accuracy.\n",
    "\n",
    "### Learning Curve\n",
    "#### U-Net\n",
    "The graphs show the training and validation metrics of the UNet model for road marking segmentation. The IoU, the primary segmentation quality metric, steadily increases to 0.55 by the 20th epoch for the training set and shows improvement on the validation set. Other metrics (loss, precision, recall, F1-score) also demonstrate positive trends, confirming the overall improvement of the model.<br>\n",
    "After the 13th epoch, the quality improvement on the validation data slows down.\n",
    "![Unet learning curve](./examples/unet_learinging_curve.png)\n",
    "\n",
    "#### LaneNet\n",
    "![LaneNet learning curve](./examples/lanet_learning_curve.png)"
   ]
  },
  {
   "cell_type": "markdown",
   "id": "28b202f4-63d1-448d-8d1b-65547097ced9",
   "metadata": {},
   "source": []
  },
  {
   "cell_type": "code",
   "execution_count": 1,
   "id": "7fe54e2c-0801-45de-b65f-8c8e2b58b7f6",
   "metadata": {
    "ExecuteTime": {
     "end_time": "2024-08-06T08:38:53.847682891Z",
     "start_time": "2024-08-06T08:38:53.772328863Z"
    }
   },
   "outputs": [],
   "source": [
    "import numpy as np"
   ]
  },
  {
   "cell_type": "code",
   "execution_count": null,
   "id": "db3463c8487e8c22",
   "metadata": {
    "collapsed": false,
    "jupyter": {
     "outputs_hidden": false
    }
   },
   "outputs": [],
   "source": []
  }
 ],
 "metadata": {
  "kernelspec": {
   "display_name": "Python 3 (ipykernel)",
   "language": "python",
   "name": "python3"
  },
  "language_info": {
   "codemirror_mode": {
    "name": "ipython",
    "version": 3
   },
   "file_extension": ".py",
   "mimetype": "text/x-python",
   "name": "python",
   "nbconvert_exporter": "python",
   "pygments_lexer": "ipython3",
   "version": "3.10.12"
  }
 },
 "nbformat": 4,
 "nbformat_minor": 5
}
